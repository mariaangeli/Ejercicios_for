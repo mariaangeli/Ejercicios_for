{
  "nbformat": 4,
  "nbformat_minor": 0,
  "metadata": {
    "colab": {
      "provenance": [],
      "authorship_tag": "ABX9TyO1Ohh5iYWpxvNaaFwOjA+4",
      "include_colab_link": true
    },
    "kernelspec": {
      "name": "python3",
      "display_name": "Python 3"
    },
    "language_info": {
      "name": "python"
    }
  },
  "cells": [
    {
      "cell_type": "markdown",
      "metadata": {
        "id": "view-in-github",
        "colab_type": "text"
      },
      "source": [
        "<a href=\"https://colab.research.google.com/github/mariaangeli/Ejercicios_for/blob/main/Ejercicios_for.ipynb\" target=\"_parent\"><img src=\"https://colab.research.google.com/assets/colab-badge.svg\" alt=\"Open In Colab\"/></a>"
      ]
    },
    {
      "cell_type": "markdown",
      "source": [
        "\n",
        "\n",
        "#Instruccion Repetitiva For\n",
        "\n"
      ],
      "metadata": {
        "id": "y97JU0aWq6YD"
      }
    },
    {
      "cell_type": "code",
      "source": [
        "#Ejercicio 1: mostrar los números del 1 al 10,sin usar instrucciones repetitivas\n",
        "\n",
        "print(1)\n",
        "print(2)\n",
        "print(3)\n",
        "print(4)\n",
        "print(5)\n",
        "print(6)\n",
        "print(7)\n",
        "print(8)\n",
        "print(9)\n",
        "print(10)"
      ],
      "metadata": {
        "id": "TrC-akTYrAgU"
      },
      "execution_count": null,
      "outputs": []
    },
    {
      "cell_type": "code",
      "source": [
        "#Ejercico 2: mostrar los numeros del 1 al 10,usando las intrucción whyle\n",
        "\n",
        "contador =1\n",
        "print(contador)\n",
        "while contador <10:\n",
        "  #contador = contador + 1\n",
        "  contador += 1\n",
        "  print(contador)"
      ],
      "metadata": {
        "id": "3ixltRCQtczP"
      },
      "execution_count": null,
      "outputs": []
    },
    {
      "cell_type": "code",
      "source": [
        "#Ejercico 3:mostrar los números del 1 al 10 usando la instrucción for y una lista como literable\n",
        "\n",
        "lista = [1,2,3,4,5,6,7,8,9,10]\n",
        "for i in lista:\n",
        "  print(i)"
      ],
      "metadata": {
        "id": "9Q78iB2ovOaS"
      },
      "execution_count": null,
      "outputs": []
    },
    {
      "cell_type": "code",
      "source": [
        "# Ejercicio 4:mostrar los numeros de 1 al 10 usando la instruccio for y función range\n",
        "\n",
        "for i in range(1,11):\n",
        "  print(i)"
      ],
      "metadata": {
        "id": "MxGWj3eGwu8Z"
      },
      "execution_count": null,
      "outputs": []
    },
    {
      "cell_type": "code",
      "source": [
        "#Ejercicio 5: mostrar una frase 10 veces, usando la instrucción for y una lista.\n",
        "\n",
        "lista = [1,2,3,4,5,6,7,8,9,10]\n",
        "for i in lista:\n",
        "  print(f\"{i} Sistemas,la mejor\")"
      ],
      "metadata": {
        "id": "tR4uHcfUxmPS"
      },
      "execution_count": null,
      "outputs": []
    },
    {
      "cell_type": "code",
      "source": [
        "#Ejercicio 6:mostara la silaba inicial de los días de la semana,usando for y una lista con la silaba inicial de los días de la semana \n",
        "\n",
        "días_semana =[\"lu\",\"na\",\"ju\",\"vi\",\"sa\",\"do\"]\n",
        "for i in días_semana:\n",
        "  print(i)\n",
        " "
      ],
      "metadata": {
        "id": "OaXJeWJVyfOA"
      },
      "execution_count": null,
      "outputs": []
    },
    {
      "cell_type": "code",
      "source": [
        "#Ejercicio7: mostrar una lista de distintos tipos de datos usando for\n",
        "\n",
        "lista = [1, 3.4, 9, True,\"Angelica\", 8, \"Guanenta\"]\n",
        "for i in lista:\n",
        "  print(i)"
      ],
      "metadata": {
        "id": "o4Id5UM9zd8E"
      },
      "execution_count": null,
      "outputs": []
    },
    {
      "cell_type": "code",
      "source": [
        "#Ejercicio8: ingresar su nombre y mostrar letra a letra,usando for\n",
        "\n",
        "nombre = input(\"Digite su nombre\")\n",
        "for letra in nombre:\n",
        "  print(letra)"
      ],
      "metadata": {
        "id": "ComYtQoJ0Cko"
      },
      "execution_count": null,
      "outputs": []
    },
    {
      "cell_type": "code",
      "source": [
        "#Ejercicio 9:ingresar su nombre y mostrarlo letra a letra usando for comniando por asterisco * a la vocal e\n",
        "\n",
        "nombre = input(\"Digite su nombre: \")\n",
        "for letra in nombre:\n",
        "  if letra == 'e':\n",
        "    print(\"*\")\n",
        "  else:\n",
        "      print(letra)"
      ],
      "metadata": {
        "id": "4qCPJvYa0950"
      },
      "execution_count": null,
      "outputs": []
    },
    {
      "cell_type": "code",
      "source": [
        "#Ejercicio 10:ingresar su nombre y mostrarlo letra a letra en mayuscula usando for\n",
        "\n",
        "nombre = input(\"Digite su nombre: \")\n",
        "for letra in nombre:\n",
        "  print(letra.upper())\n"
      ],
      "metadata": {
        "id": "bilhhWsz__aK"
      },
      "execution_count": null,
      "outputs": []
    },
    {
      "cell_type": "code",
      "source": [
        "#Ejercicio 11:inprimir lista de números usando for y reange\n",
        "\n",
        "print(\"Números del 0 al 9\")\n",
        "for i in range(10):\n",
        "  print(i)\n",
        "\n",
        "print(\"Números del 1 al 10\")\n",
        "for i in range(1,1):\n",
        "  print(i)\n",
        "\n",
        "print(\" 10 veces la frase\")\n",
        "for i in range(10):\n",
        "  print(\"Sistemas la mejor\")\n",
        "\n",
        "print(\"10 veces la frase i = \")\n",
        "for i in range(10):\n",
        "  print(\"i = \" + str(i))\n",
        "\n",
        "print(\"10 veces la frase i = \")\n",
        "for i in range(10):\n",
        "  print(f\"i = {i}\")\n",
        "\n",
        "print(\"Rango del 7 al 18, incrementando de 4 en 4\")\n",
        "for i in range(7,19,4):\n",
        "  print(i)\n",
        "\n",
        "print(\"Convierte un rango e lista \")\n",
        "a = list(range(1000))\n",
        "print(a)"
      ],
      "metadata": {
        "id": "e61jMp4LApEv"
      },
      "execution_count": null,
      "outputs": []
    },
    {
      "cell_type": "markdown",
      "source": [
        "# Ejercicos\n",
        "1. Dada la siguiente lista de números, [20,21,30,41,50,51, 201] mostrar en pantalla solo los que No terminan en 1.\n",
        "2. Mostrar 1000 veces la palabra \"Programación\"\n",
        "3. Del conjunto de cadenas [\"E\", \"F\", \"M\", \"A\"] que corresponde a las iniciales de los primeros cuatro meses del año, mostrar el nombre completo de dichos meses.\n",
        "4. Leer un texto y determinar cuántas veces dicho texto contiene cada una de las vocales en minuscula y/mayúscula"
      ],
      "metadata": {
        "id": "hb08Vo9aE7EW"
      }
    },
    {
      "cell_type": "code",
      "source": [
        "# Ejercicio 1:Dada la siguiente lista de números, [20,21,30,41,50,51, 201] mostrar en pantalla solo los que No terminan en 1.\n",
        "\n",
        "numeros = [20, 21, 30, 41, 50, 51, 201]\n",
        "\n",
        "for numero in numeros:\n",
        "    if numero % 10 != 1:\n",
        "        print(numero)"
      ],
      "metadata": {
        "id": "6MMD1IBpIRPC"
      },
      "execution_count": null,
      "outputs": []
    },
    {
      "cell_type": "code",
      "source": [
        "# Ejercicio 2:Mostrar 1000 veces la palabra \"Programación\"\n",
        "\n",
        "print(\" 1000 veces la palabra\")\n",
        "for i in range(1000):\n",
        "  print(\"Programación\")"
      ],
      "metadata": {
        "id": "UjiDtDtcJL4g"
      },
      "execution_count": null,
      "outputs": []
    },
    {
      "cell_type": "code",
      "source": [
        "#Ejercicio 3: conjunto de cadenas [\"E\", \"F\", \"M\", \"A\"] que corresponde a las iniciales de los primeros cuatro meses del año, mostrar el nombre completo de dichos meses.\n",
        "\n",
        "print(\"mostrar nombre completo de dichos meses\" )\n",
        "Cadena =[\"E\", \"F\", \"M\", \"A\"]\n",
        "for i in lista:\n",
        "  print(f\"{i} Enero,Febrero,marzo,abril\")\n"
      ],
      "metadata": {
        "id": "vF2NiGxXKrXn"
      },
      "execution_count": null,
      "outputs": []
    },
    {
      "cell_type": "code",
      "source": [
        "#Ejercicio 4:"
      ],
      "metadata": {
        "id": "svj0IY9DTp0W"
      },
      "execution_count": null,
      "outputs": []
    }
  ]
}